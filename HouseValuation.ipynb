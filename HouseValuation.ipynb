{
 "cells": [
  {
   "cell_type": "code",
   "execution_count": 1,
   "metadata": {},
   "outputs": [],
   "source": [
    "import numpy as np\n",
    "import matplotlib.pyplot as plt\n",
    "from sklearn.datasets import load_boston\n",
    "from sklearn.linear_model import LinearRegression\n",
    "from sklearn.metrics import mean_squared_error\n",
    "import pandas as pd"
   ]
  },
  {
   "cell_type": "code",
   "execution_count": 2,
   "metadata": {},
   "outputs": [
    {
     "data": {
      "text/html": [
       "<div>\n",
       "<style scoped>\n",
       "    .dataframe tbody tr th:only-of-type {\n",
       "        vertical-align: middle;\n",
       "    }\n",
       "\n",
       "    .dataframe tbody tr th {\n",
       "        vertical-align: top;\n",
       "    }\n",
       "\n",
       "    .dataframe thead th {\n",
       "        text-align: right;\n",
       "    }\n",
       "</style>\n",
       "<table border=\"1\" class=\"dataframe\">\n",
       "  <thead>\n",
       "    <tr style=\"text-align: right;\">\n",
       "      <th></th>\n",
       "      <th>CRIM</th>\n",
       "      <th>ZN</th>\n",
       "      <th>CHAS</th>\n",
       "      <th>NOX</th>\n",
       "      <th>RM</th>\n",
       "      <th>DIS</th>\n",
       "      <th>RAD</th>\n",
       "      <th>TAX</th>\n",
       "      <th>PTRATIO</th>\n",
       "      <th>B</th>\n",
       "      <th>LSTAT</th>\n",
       "    </tr>\n",
       "  </thead>\n",
       "  <tbody>\n",
       "    <tr>\n",
       "      <th>0</th>\n",
       "      <td>0.00632</td>\n",
       "      <td>18.0</td>\n",
       "      <td>0.0</td>\n",
       "      <td>0.538</td>\n",
       "      <td>6.575</td>\n",
       "      <td>4.0900</td>\n",
       "      <td>1.0</td>\n",
       "      <td>296.0</td>\n",
       "      <td>15.3</td>\n",
       "      <td>396.90</td>\n",
       "      <td>4.98</td>\n",
       "    </tr>\n",
       "    <tr>\n",
       "      <th>1</th>\n",
       "      <td>0.02731</td>\n",
       "      <td>0.0</td>\n",
       "      <td>0.0</td>\n",
       "      <td>0.469</td>\n",
       "      <td>6.421</td>\n",
       "      <td>4.9671</td>\n",
       "      <td>2.0</td>\n",
       "      <td>242.0</td>\n",
       "      <td>17.8</td>\n",
       "      <td>396.90</td>\n",
       "      <td>9.14</td>\n",
       "    </tr>\n",
       "    <tr>\n",
       "      <th>2</th>\n",
       "      <td>0.02729</td>\n",
       "      <td>0.0</td>\n",
       "      <td>0.0</td>\n",
       "      <td>0.469</td>\n",
       "      <td>7.185</td>\n",
       "      <td>4.9671</td>\n",
       "      <td>2.0</td>\n",
       "      <td>242.0</td>\n",
       "      <td>17.8</td>\n",
       "      <td>392.83</td>\n",
       "      <td>4.03</td>\n",
       "    </tr>\n",
       "    <tr>\n",
       "      <th>3</th>\n",
       "      <td>0.03237</td>\n",
       "      <td>0.0</td>\n",
       "      <td>0.0</td>\n",
       "      <td>0.458</td>\n",
       "      <td>6.998</td>\n",
       "      <td>6.0622</td>\n",
       "      <td>3.0</td>\n",
       "      <td>222.0</td>\n",
       "      <td>18.7</td>\n",
       "      <td>394.63</td>\n",
       "      <td>2.94</td>\n",
       "    </tr>\n",
       "    <tr>\n",
       "      <th>4</th>\n",
       "      <td>0.06905</td>\n",
       "      <td>0.0</td>\n",
       "      <td>0.0</td>\n",
       "      <td>0.458</td>\n",
       "      <td>7.147</td>\n",
       "      <td>6.0622</td>\n",
       "      <td>3.0</td>\n",
       "      <td>222.0</td>\n",
       "      <td>18.7</td>\n",
       "      <td>396.90</td>\n",
       "      <td>5.33</td>\n",
       "    </tr>\n",
       "    <tr>\n",
       "      <th>...</th>\n",
       "      <td>...</td>\n",
       "      <td>...</td>\n",
       "      <td>...</td>\n",
       "      <td>...</td>\n",
       "      <td>...</td>\n",
       "      <td>...</td>\n",
       "      <td>...</td>\n",
       "      <td>...</td>\n",
       "      <td>...</td>\n",
       "      <td>...</td>\n",
       "      <td>...</td>\n",
       "    </tr>\n",
       "    <tr>\n",
       "      <th>501</th>\n",
       "      <td>0.06263</td>\n",
       "      <td>0.0</td>\n",
       "      <td>0.0</td>\n",
       "      <td>0.573</td>\n",
       "      <td>6.593</td>\n",
       "      <td>2.4786</td>\n",
       "      <td>1.0</td>\n",
       "      <td>273.0</td>\n",
       "      <td>21.0</td>\n",
       "      <td>391.99</td>\n",
       "      <td>9.67</td>\n",
       "    </tr>\n",
       "    <tr>\n",
       "      <th>502</th>\n",
       "      <td>0.04527</td>\n",
       "      <td>0.0</td>\n",
       "      <td>0.0</td>\n",
       "      <td>0.573</td>\n",
       "      <td>6.120</td>\n",
       "      <td>2.2875</td>\n",
       "      <td>1.0</td>\n",
       "      <td>273.0</td>\n",
       "      <td>21.0</td>\n",
       "      <td>396.90</td>\n",
       "      <td>9.08</td>\n",
       "    </tr>\n",
       "    <tr>\n",
       "      <th>503</th>\n",
       "      <td>0.06076</td>\n",
       "      <td>0.0</td>\n",
       "      <td>0.0</td>\n",
       "      <td>0.573</td>\n",
       "      <td>6.976</td>\n",
       "      <td>2.1675</td>\n",
       "      <td>1.0</td>\n",
       "      <td>273.0</td>\n",
       "      <td>21.0</td>\n",
       "      <td>396.90</td>\n",
       "      <td>5.64</td>\n",
       "    </tr>\n",
       "    <tr>\n",
       "      <th>504</th>\n",
       "      <td>0.10959</td>\n",
       "      <td>0.0</td>\n",
       "      <td>0.0</td>\n",
       "      <td>0.573</td>\n",
       "      <td>6.794</td>\n",
       "      <td>2.3889</td>\n",
       "      <td>1.0</td>\n",
       "      <td>273.0</td>\n",
       "      <td>21.0</td>\n",
       "      <td>393.45</td>\n",
       "      <td>6.48</td>\n",
       "    </tr>\n",
       "    <tr>\n",
       "      <th>505</th>\n",
       "      <td>0.04741</td>\n",
       "      <td>0.0</td>\n",
       "      <td>0.0</td>\n",
       "      <td>0.573</td>\n",
       "      <td>6.030</td>\n",
       "      <td>2.5050</td>\n",
       "      <td>1.0</td>\n",
       "      <td>273.0</td>\n",
       "      <td>21.0</td>\n",
       "      <td>396.90</td>\n",
       "      <td>7.88</td>\n",
       "    </tr>\n",
       "  </tbody>\n",
       "</table>\n",
       "<p>506 rows × 11 columns</p>\n",
       "</div>"
      ],
      "text/plain": [
       "        CRIM    ZN  CHAS    NOX     RM     DIS  RAD    TAX  PTRATIO       B  \\\n",
       "0    0.00632  18.0   0.0  0.538  6.575  4.0900  1.0  296.0     15.3  396.90   \n",
       "1    0.02731   0.0   0.0  0.469  6.421  4.9671  2.0  242.0     17.8  396.90   \n",
       "2    0.02729   0.0   0.0  0.469  7.185  4.9671  2.0  242.0     17.8  392.83   \n",
       "3    0.03237   0.0   0.0  0.458  6.998  6.0622  3.0  222.0     18.7  394.63   \n",
       "4    0.06905   0.0   0.0  0.458  7.147  6.0622  3.0  222.0     18.7  396.90   \n",
       "..       ...   ...   ...    ...    ...     ...  ...    ...      ...     ...   \n",
       "501  0.06263   0.0   0.0  0.573  6.593  2.4786  1.0  273.0     21.0  391.99   \n",
       "502  0.04527   0.0   0.0  0.573  6.120  2.2875  1.0  273.0     21.0  396.90   \n",
       "503  0.06076   0.0   0.0  0.573  6.976  2.1675  1.0  273.0     21.0  396.90   \n",
       "504  0.10959   0.0   0.0  0.573  6.794  2.3889  1.0  273.0     21.0  393.45   \n",
       "505  0.04741   0.0   0.0  0.573  6.030  2.5050  1.0  273.0     21.0  396.90   \n",
       "\n",
       "     LSTAT  \n",
       "0     4.98  \n",
       "1     9.14  \n",
       "2     4.03  \n",
       "3     2.94  \n",
       "4     5.33  \n",
       "..     ...  \n",
       "501   9.67  \n",
       "502   9.08  \n",
       "503   5.64  \n",
       "504   6.48  \n",
       "505   7.88  \n",
       "\n",
       "[506 rows x 11 columns]"
      ]
     },
     "execution_count": 2,
     "metadata": {},
     "output_type": "execute_result"
    }
   ],
   "source": [
    "data_url = \"http://lib.stat.cmu.edu/datasets/boston\"\n",
    "raw_df = pd.read_csv(data_url, sep=\"\\s+\", skiprows=22, header=None)\n",
    "data = np.hstack([raw_df.values[::2, :], raw_df.values[1::2, :2]])\n",
    "data1=pd.DataFrame(data)\n",
    "target = raw_df.values[1::2, 2]\n",
    "# data1[\"PRICE\"]=target\n",
    "data1.rename(columns={0:\"CRIM\",1:\"ZN\",2:\"INDUS\",3:\"CHAS\",4:\"NOX\",5:\"RM\",6:\"AGE\",7:\"DIS\",8:\"RAD\",9:\"TAX\",10:\"PTRATIO\",11:\"B\",12:\"LSTAT\"},inplace=True)\n",
    "features=data1.drop([\"INDUS\",\"AGE\"],axis=1)\n",
    "features"
   ]
  },
  {
   "cell_type": "code",
   "execution_count": 3,
   "metadata": {},
   "outputs": [
    {
     "data": {
      "text/html": [
       "<div>\n",
       "<style scoped>\n",
       "    .dataframe tbody tr th:only-of-type {\n",
       "        vertical-align: middle;\n",
       "    }\n",
       "\n",
       "    .dataframe tbody tr th {\n",
       "        vertical-align: top;\n",
       "    }\n",
       "\n",
       "    .dataframe thead th {\n",
       "        text-align: right;\n",
       "    }\n",
       "</style>\n",
       "<table border=\"1\" class=\"dataframe\">\n",
       "  <thead>\n",
       "    <tr style=\"text-align: right;\">\n",
       "      <th></th>\n",
       "      <th>PRICE</th>\n",
       "    </tr>\n",
       "  </thead>\n",
       "  <tbody>\n",
       "    <tr>\n",
       "      <th>0</th>\n",
       "      <td>3.178054</td>\n",
       "    </tr>\n",
       "    <tr>\n",
       "      <th>1</th>\n",
       "      <td>3.072693</td>\n",
       "    </tr>\n",
       "    <tr>\n",
       "      <th>2</th>\n",
       "      <td>3.546740</td>\n",
       "    </tr>\n",
       "    <tr>\n",
       "      <th>3</th>\n",
       "      <td>3.508556</td>\n",
       "    </tr>\n",
       "    <tr>\n",
       "      <th>4</th>\n",
       "      <td>3.589059</td>\n",
       "    </tr>\n",
       "    <tr>\n",
       "      <th>...</th>\n",
       "      <td>...</td>\n",
       "    </tr>\n",
       "    <tr>\n",
       "      <th>501</th>\n",
       "      <td>3.109061</td>\n",
       "    </tr>\n",
       "    <tr>\n",
       "      <th>502</th>\n",
       "      <td>3.025291</td>\n",
       "    </tr>\n",
       "    <tr>\n",
       "      <th>503</th>\n",
       "      <td>3.173878</td>\n",
       "    </tr>\n",
       "    <tr>\n",
       "      <th>504</th>\n",
       "      <td>3.091042</td>\n",
       "    </tr>\n",
       "    <tr>\n",
       "      <th>505</th>\n",
       "      <td>2.476538</td>\n",
       "    </tr>\n",
       "  </tbody>\n",
       "</table>\n",
       "<p>506 rows × 1 columns</p>\n",
       "</div>"
      ],
      "text/plain": [
       "        PRICE\n",
       "0    3.178054\n",
       "1    3.072693\n",
       "2    3.546740\n",
       "3    3.508556\n",
       "4    3.589059\n",
       "..        ...\n",
       "501  3.109061\n",
       "502  3.025291\n",
       "503  3.173878\n",
       "504  3.091042\n",
       "505  2.476538\n",
       "\n",
       "[506 rows x 1 columns]"
      ]
     },
     "execution_count": 3,
     "metadata": {},
     "output_type": "execute_result"
    }
   ],
   "source": [
    "target_log=pd.DataFrame(data=np.log(target),columns=[\"PRICE\"])\n",
    "target_log"
   ]
  },
  {
   "cell_type": "code",
   "execution_count": 4,
   "metadata": {},
   "outputs": [
    {
     "data": {
      "text/plain": [
       "array([[3.61352356e+00, 1.13636364e+01, 6.91699605e-02, 5.54695059e-01,\n",
       "        6.28463439e+00, 3.79504269e+00, 9.54940711e+00, 4.08237154e+02,\n",
       "        1.84555336e+01, 3.56674032e+02, 1.26530632e+01]])"
      ]
     },
     "execution_count": 4,
     "metadata": {},
     "output_type": "execute_result"
    }
   ],
   "source": [
    "property_stats=features.mean().values.reshape(1,11)\n",
    "property_stats"
   ]
  },
  {
   "cell_type": "code",
   "execution_count": 5,
   "metadata": {},
   "outputs": [],
   "source": [
    "reg=LinearRegression().fit(features,target_log)\n",
    "fitted_vals=reg.predict(features)\n",
    "MSE=mean_squared_error(target_log,fitted_vals)\n",
    "RMSE=np.sqrt(MSE)"
   ]
  },
  {
   "cell_type": "code",
   "execution_count": 19,
   "metadata": {},
   "outputs": [
    {
     "name": "stderr",
     "output_type": "stream",
     "text": [
      "c:\\Users\\Shubham\\AppData\\Local\\Programs\\Python\\Python39\\lib\\site-packages\\sklearn\\base.py:450: UserWarning: X does not have valid feature names, but LinearRegression was fitted with feature names\n",
      "  warnings.warn(\n"
     ]
    },
    {
     "data": {
      "text/plain": [
       "(2.7767581914803996, 3.15178246187466, 2.401733921086139, 95)"
      ]
     },
     "execution_count": 19,
     "metadata": {},
     "output_type": "execute_result"
    }
   ],
   "source": [
    "CRIME_IDX = 0\n",
    "ZN_IDX = 1\n",
    "CHAS_IDX = 2\n",
    "RM_IDX = 4\n",
    "PTRATIO_IDX = 8\n",
    "def log_price_estimate(nr_roms,students_per_classroom,next_to_river=False,high_confidence=True):\n",
    "    property_stats[0][RM_IDX]=nr_roms\n",
    "    property_stats[0][PTRATIO_IDX]=students_per_classroom\n",
    "    if next_to_river:\n",
    "        property_stats[0][CHAS_IDX]=1\n",
    "    else:\n",
    "        property_stats[0][CHAS_IDX]=0\n",
    "    log_estimate=reg.predict(property_stats)[0][0]\n",
    "    if high_confidence:\n",
    "        upper_bound=log_estimate+2*RMSE\n",
    "        lower_bound=log_estimate-2*RMSE\n",
    "        interval=95\n",
    "    else:\n",
    "        upper_bound=log_estimate+RMSE\n",
    "        lower_bound=log_estimate-RMSE\n",
    "        interval=68\n",
    "    return log_estimate,upper_bound,lower_bound,interval\n",
    "log_price_estimate(3,20,next_to_river=True,high_confidence=True)\n",
    "# 3.03451287"
   ]
  },
  {
   "cell_type": "code",
   "execution_count": 11,
   "metadata": {},
   "outputs": [
    {
     "data": {
      "text/plain": [
       "21.2"
      ]
     },
     "execution_count": 11,
     "metadata": {},
     "output_type": "execute_result"
    }
   ],
   "source": [
    "np.median(target)"
   ]
  },
  {
   "cell_type": "code",
   "execution_count": 8,
   "metadata": {},
   "outputs": [],
   "source": [
    "ZILLOW_MEDIAN_PRICE=583.3\n",
    "SCALER_FACTOR=ZILLOW_MEDIAN_PRICE/np.median(target)\n",
    "def get_dollar_estimate(rm,ptratio,chas=False,large_range=True):\n",
    "    \"\"\"Estimate the price of a property in boston\"\"\"\n",
    "    if rm<1 or ptratio<1:\n",
    "        print(\"This is unrealistic. Please try again.\")\n",
    "        return\n",
    "    log_estimate,upper,lower,conf=log_price_estimate(rm,ptratio,next_to_river=chas,high_confidence=large_range)\n",
    "    dollar_est=(np.e**log_estimate)*1000*SCALER_FACTOR\n",
    "    dollar_upper=(np.e**upper)*1000*SCALER_FACTOR\n",
    "    dollar_lower=(np.e**lower)*1000*SCALER_FACTOR\n",
    "    rounded_est=round(dollar_est,-3)\n",
    "    rounded_hi=round(dollar_upper,-3)\n",
    "    rounded_low=round(dollar_lower,-3)\n",
    "    print(f\"Estimated property value is {rounded_est}\")\n",
    "    print(f\"At {conf}% confidence the value range is\")\n",
    "    print(f\"USD {rounded_low} at lower end to USD {rounded_hi} at high end\")\n"
   ]
  },
  {
   "cell_type": "code",
   "execution_count": 25,
   "metadata": {},
   "outputs": [
    {
     "name": "stdout",
     "output_type": "stream",
     "text": [
      "Estimated property value is 442000.0\n",
      "At 95% confidence the value range is\n",
      "USD 304000.0 at lower end to USD 643000.0 at high end\n"
     ]
    },
    {
     "name": "stderr",
     "output_type": "stream",
     "text": [
      "c:\\Users\\Shubham\\AppData\\Local\\Programs\\Python\\Python39\\lib\\site-packages\\sklearn\\base.py:450: UserWarning: X does not have valid feature names, but LinearRegression was fitted with feature names\n",
      "  warnings.warn(\n"
     ]
    }
   ],
   "source": [
    "get_dollar_estimate(rm=3,ptratio=20,chas=True,large_range=True)"
   ]
  },
  {
   "cell_type": "code",
   "execution_count": null,
   "metadata": {},
   "outputs": [],
   "source": []
  },
  {
   "cell_type": "code",
   "execution_count": null,
   "metadata": {},
   "outputs": [],
   "source": []
  }
 ],
 "metadata": {
  "kernelspec": {
   "display_name": "Python 3",
   "language": "python",
   "name": "python3"
  },
  "language_info": {
   "codemirror_mode": {
    "name": "ipython",
    "version": 3
   },
   "file_extension": ".py",
   "mimetype": "text/x-python",
   "name": "python",
   "nbconvert_exporter": "python",
   "pygments_lexer": "ipython3",
   "version": "3.9.6"
  },
  "orig_nbformat": 4,
  "vscode": {
   "interpreter": {
    "hash": "0ce1555eb526f819a858f54e3bf5c0b25e24887766042b4d7a2a44ef1239ab78"
   }
  }
 },
 "nbformat": 4,
 "nbformat_minor": 2
}
